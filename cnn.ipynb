{
 "cells": [
  {
   "cell_type": "code",
   "execution_count": 9,
   "metadata": {},
   "outputs": [],
   "source": [
    "import matplotlib.pyplot as plt\n",
    "import numpy as np\n",
    "import pandas as pd\n",
    "import seaborn as sns\n",
    "import os\n",
    "import keras\n",
    "\n",
    "\n",
    "\n",
    "from keras.preprocessing.image import load_img, img_to_array\n",
    "from keras.preprocessing.image import ImageDataGenerator\n",
    "from keras.layers import Dense,Input,Dropout,GlobalAveragePooling2D,Flatten,Conv2D,BatchNormalization,Activation,MaxPooling2D\n",
    "from keras.models import Sequential, load_model\n",
    "from keras.optimizers import Adam,SGD,RMSprop"
   ]
  },
  {
   "cell_type": "code",
   "execution_count": 10,
   "metadata": {},
   "outputs": [],
   "source": [
    "picture_size = 48\n",
    "folder_path = \"/Users/ampxxmly/Downloads/archive\""
   ]
  },
  {
   "cell_type": "code",
   "execution_count": 2,
   "metadata": {},
   "outputs": [
    {
     "name": "stdout",
     "output_type": "stream",
     "text": [
      "Requirement already satisfied: matplotlib in /opt/anaconda3/envs/mlp/lib/python3.8/site-packages (3.7.5)\n",
      "Requirement already satisfied: numpy in /opt/anaconda3/envs/mlp/lib/python3.8/site-packages (1.22.3)\n",
      "Requirement already satisfied: pandas in /opt/anaconda3/envs/mlp/lib/python3.8/site-packages (2.0.3)\n",
      "Requirement already satisfied: seaborn in /opt/anaconda3/envs/mlp/lib/python3.8/site-packages (0.13.2)\n",
      "Requirement already satisfied: keras in /opt/anaconda3/envs/mlp/lib/python3.8/site-packages (2.13.1)\n",
      "Requirement already satisfied: contourpy>=1.0.1 in /opt/anaconda3/envs/mlp/lib/python3.8/site-packages (from matplotlib) (1.1.1)\n",
      "Requirement already satisfied: cycler>=0.10 in /opt/anaconda3/envs/mlp/lib/python3.8/site-packages (from matplotlib) (0.12.1)\n",
      "Requirement already satisfied: fonttools>=4.22.0 in /opt/anaconda3/envs/mlp/lib/python3.8/site-packages (from matplotlib) (4.53.1)\n",
      "Requirement already satisfied: kiwisolver>=1.0.1 in /opt/anaconda3/envs/mlp/lib/python3.8/site-packages (from matplotlib) (1.4.5)\n",
      "Requirement already satisfied: packaging>=20.0 in /opt/anaconda3/envs/mlp/lib/python3.8/site-packages (from matplotlib) (24.1)\n",
      "Requirement already satisfied: pillow>=6.2.0 in /opt/anaconda3/envs/mlp/lib/python3.8/site-packages (from matplotlib) (10.4.0)\n",
      "Requirement already satisfied: pyparsing>=2.3.1 in /opt/anaconda3/envs/mlp/lib/python3.8/site-packages (from matplotlib) (3.1.2)\n",
      "Requirement already satisfied: python-dateutil>=2.7 in /opt/anaconda3/envs/mlp/lib/python3.8/site-packages (from matplotlib) (2.9.0)\n",
      "Requirement already satisfied: importlib-resources>=3.2.0 in /opt/anaconda3/envs/mlp/lib/python3.8/site-packages (from matplotlib) (6.4.0)\n",
      "Requirement already satisfied: pytz>=2020.1 in /opt/anaconda3/envs/mlp/lib/python3.8/site-packages (from pandas) (2024.1)\n",
      "Requirement already satisfied: tzdata>=2022.1 in /opt/anaconda3/envs/mlp/lib/python3.8/site-packages (from pandas) (2024.1)\n",
      "Requirement already satisfied: zipp>=3.1.0 in /opt/anaconda3/envs/mlp/lib/python3.8/site-packages (from importlib-resources>=3.2.0->matplotlib) (3.19.2)\n",
      "Requirement already satisfied: six>=1.5 in /opt/anaconda3/envs/mlp/lib/python3.8/site-packages (from python-dateutil>=2.7->matplotlib) (1.16.0)\n",
      "Note: you may need to restart the kernel to use updated packages.\n"
     ]
    }
   ],
   "source": [
    "%pip install matplotlib numpy pandas seaborn keras"
   ]
  },
  {
   "cell_type": "code",
   "execution_count": 10,
   "metadata": {},
   "outputs": [
    {
     "name": "stdout",
     "output_type": "stream",
     "text": [
      "Requirement already satisfied: tensorflow-macos in /opt/anaconda3/envs/mlp/lib/python3.8/site-packages (2.13.0)\n",
      "Requirement already satisfied: absl-py>=1.0.0 in /opt/anaconda3/envs/mlp/lib/python3.8/site-packages (from tensorflow-macos) (2.1.0)\n",
      "Requirement already satisfied: astunparse>=1.6.0 in /opt/anaconda3/envs/mlp/lib/python3.8/site-packages (from tensorflow-macos) (1.6.3)\n",
      "Requirement already satisfied: flatbuffers>=23.1.21 in /opt/anaconda3/envs/mlp/lib/python3.8/site-packages (from tensorflow-macos) (24.3.25)\n",
      "Requirement already satisfied: gast<=0.4.0,>=0.2.1 in /opt/anaconda3/envs/mlp/lib/python3.8/site-packages (from tensorflow-macos) (0.4.0)\n",
      "Requirement already satisfied: google-pasta>=0.1.1 in /opt/anaconda3/envs/mlp/lib/python3.8/site-packages (from tensorflow-macos) (0.2.0)\n",
      "Requirement already satisfied: h5py>=2.9.0 in /opt/anaconda3/envs/mlp/lib/python3.8/site-packages (from tensorflow-macos) (3.6.0)\n",
      "Requirement already satisfied: libclang>=13.0.0 in /opt/anaconda3/envs/mlp/lib/python3.8/site-packages (from tensorflow-macos) (18.1.1)\n",
      "Requirement already satisfied: numpy<=1.24.3,>=1.22 in /opt/anaconda3/envs/mlp/lib/python3.8/site-packages (from tensorflow-macos) (1.22.3)\n",
      "Requirement already satisfied: opt-einsum>=2.3.2 in /opt/anaconda3/envs/mlp/lib/python3.8/site-packages (from tensorflow-macos) (3.3.0)\n",
      "Requirement already satisfied: packaging in /opt/anaconda3/envs/mlp/lib/python3.8/site-packages (from tensorflow-macos) (24.1)\n",
      "Requirement already satisfied: protobuf!=4.21.0,!=4.21.1,!=4.21.2,!=4.21.3,!=4.21.4,!=4.21.5,<5.0.0dev,>=3.20.3 in /opt/anaconda3/envs/mlp/lib/python3.8/site-packages (from tensorflow-macos) (3.20.3)\n",
      "Requirement already satisfied: setuptools in /opt/anaconda3/envs/mlp/lib/python3.8/site-packages (from tensorflow-macos) (72.1.0)\n",
      "Requirement already satisfied: six>=1.12.0 in /opt/anaconda3/envs/mlp/lib/python3.8/site-packages (from tensorflow-macos) (1.16.0)\n",
      "Requirement already satisfied: termcolor>=1.1.0 in /opt/anaconda3/envs/mlp/lib/python3.8/site-packages (from tensorflow-macos) (2.4.0)\n",
      "Requirement already satisfied: typing-extensions<4.6.0,>=3.6.6 in /opt/anaconda3/envs/mlp/lib/python3.8/site-packages (from tensorflow-macos) (4.5.0)\n",
      "Requirement already satisfied: wrapt>=1.11.0 in /opt/anaconda3/envs/mlp/lib/python3.8/site-packages (from tensorflow-macos) (1.16.0)\n",
      "Requirement already satisfied: grpcio<2.0,>=1.24.3 in /opt/anaconda3/envs/mlp/lib/python3.8/site-packages (from tensorflow-macos) (1.62.2)\n",
      "Requirement already satisfied: tensorboard<2.14,>=2.13 in /opt/anaconda3/envs/mlp/lib/python3.8/site-packages (from tensorflow-macos) (2.13.0)\n",
      "Requirement already satisfied: tensorflow-estimator<2.14,>=2.13.0 in /opt/anaconda3/envs/mlp/lib/python3.8/site-packages (from tensorflow-macos) (2.13.0)\n",
      "Requirement already satisfied: keras<2.14,>=2.13.1 in /opt/anaconda3/envs/mlp/lib/python3.8/site-packages (from tensorflow-macos) (2.13.1)\n",
      "Requirement already satisfied: wheel<1.0,>=0.23.0 in /opt/anaconda3/envs/mlp/lib/python3.8/site-packages (from astunparse>=1.6.0->tensorflow-macos) (0.43.0)\n",
      "Requirement already satisfied: google-auth<3,>=1.6.3 in /opt/anaconda3/envs/mlp/lib/python3.8/site-packages (from tensorboard<2.14,>=2.13->tensorflow-macos) (2.33.0)\n",
      "Requirement already satisfied: google-auth-oauthlib<1.1,>=0.5 in /opt/anaconda3/envs/mlp/lib/python3.8/site-packages (from tensorboard<2.14,>=2.13->tensorflow-macos) (1.0.0)\n",
      "Requirement already satisfied: markdown>=2.6.8 in /opt/anaconda3/envs/mlp/lib/python3.8/site-packages (from tensorboard<2.14,>=2.13->tensorflow-macos) (3.6)\n",
      "Requirement already satisfied: requests<3,>=2.21.0 in /opt/anaconda3/envs/mlp/lib/python3.8/site-packages (from tensorboard<2.14,>=2.13->tensorflow-macos) (2.32.3)\n",
      "Requirement already satisfied: tensorboard-data-server<0.8.0,>=0.7.0 in /opt/anaconda3/envs/mlp/lib/python3.8/site-packages (from tensorboard<2.14,>=2.13->tensorflow-macos) (0.7.2)\n",
      "Requirement already satisfied: werkzeug>=1.0.1 in /opt/anaconda3/envs/mlp/lib/python3.8/site-packages (from tensorboard<2.14,>=2.13->tensorflow-macos) (3.0.3)\n",
      "Requirement already satisfied: cachetools<6.0,>=2.0.0 in /opt/anaconda3/envs/mlp/lib/python3.8/site-packages (from google-auth<3,>=1.6.3->tensorboard<2.14,>=2.13->tensorflow-macos) (5.4.0)\n",
      "Requirement already satisfied: pyasn1-modules>=0.2.1 in /opt/anaconda3/envs/mlp/lib/python3.8/site-packages (from google-auth<3,>=1.6.3->tensorboard<2.14,>=2.13->tensorflow-macos) (0.4.0)\n",
      "Requirement already satisfied: rsa<5,>=3.1.4 in /opt/anaconda3/envs/mlp/lib/python3.8/site-packages (from google-auth<3,>=1.6.3->tensorboard<2.14,>=2.13->tensorflow-macos) (4.9)\n",
      "Requirement already satisfied: requests-oauthlib>=0.7.0 in /opt/anaconda3/envs/mlp/lib/python3.8/site-packages (from google-auth-oauthlib<1.1,>=0.5->tensorboard<2.14,>=2.13->tensorflow-macos) (2.0.0)\n",
      "Requirement already satisfied: importlib-metadata>=4.4 in /opt/anaconda3/envs/mlp/lib/python3.8/site-packages (from markdown>=2.6.8->tensorboard<2.14,>=2.13->tensorflow-macos) (8.2.0)\n",
      "Requirement already satisfied: charset-normalizer<4,>=2 in /opt/anaconda3/envs/mlp/lib/python3.8/site-packages (from requests<3,>=2.21.0->tensorboard<2.14,>=2.13->tensorflow-macos) (3.3.2)\n",
      "Requirement already satisfied: idna<4,>=2.5 in /opt/anaconda3/envs/mlp/lib/python3.8/site-packages (from requests<3,>=2.21.0->tensorboard<2.14,>=2.13->tensorflow-macos) (3.7)\n",
      "Requirement already satisfied: urllib3<3,>=1.21.1 in /opt/anaconda3/envs/mlp/lib/python3.8/site-packages (from requests<3,>=2.21.0->tensorboard<2.14,>=2.13->tensorflow-macos) (2.2.2)\n",
      "Requirement already satisfied: certifi>=2017.4.17 in /opt/anaconda3/envs/mlp/lib/python3.8/site-packages (from requests<3,>=2.21.0->tensorboard<2.14,>=2.13->tensorflow-macos) (2024.7.4)\n",
      "Requirement already satisfied: MarkupSafe>=2.1.1 in /opt/anaconda3/envs/mlp/lib/python3.8/site-packages (from werkzeug>=1.0.1->tensorboard<2.14,>=2.13->tensorflow-macos) (2.1.5)\n",
      "Requirement already satisfied: zipp>=0.5 in /opt/anaconda3/envs/mlp/lib/python3.8/site-packages (from importlib-metadata>=4.4->markdown>=2.6.8->tensorboard<2.14,>=2.13->tensorflow-macos) (3.19.2)\n",
      "Requirement already satisfied: pyasn1<0.7.0,>=0.4.6 in /opt/anaconda3/envs/mlp/lib/python3.8/site-packages (from pyasn1-modules>=0.2.1->google-auth<3,>=1.6.3->tensorboard<2.14,>=2.13->tensorflow-macos) (0.6.0)\n",
      "Requirement already satisfied: oauthlib>=3.0.0 in /opt/anaconda3/envs/mlp/lib/python3.8/site-packages (from requests-oauthlib>=0.7.0->google-auth-oauthlib<1.1,>=0.5->tensorboard<2.14,>=2.13->tensorflow-macos) (3.2.2)\n",
      "Note: you may need to restart the kernel to use updated packages.\n",
      "Requirement already satisfied: tensorflow-metal in /opt/anaconda3/envs/mlp/lib/python3.8/site-packages (1.0.0)\n",
      "Requirement already satisfied: wheel~=0.35 in /opt/anaconda3/envs/mlp/lib/python3.8/site-packages (from tensorflow-metal) (0.43.0)\n",
      "Requirement already satisfied: six>=1.15.0 in /opt/anaconda3/envs/mlp/lib/python3.8/site-packages (from tensorflow-metal) (1.16.0)\n",
      "Note: you may need to restart the kernel to use updated packages.\n"
     ]
    }
   ],
   "source": [
    "%pip install tensorflow-macos\n",
    "%pip install tensorflow-metal"
   ]
  },
  {
   "cell_type": "code",
   "execution_count": 11,
   "metadata": {},
   "outputs": [
    {
     "data": {
      "image/png": "[encoded data removed]",
      "text/plain": [
       "<Figure size 1200x1200 with 9 Axes>"
      ]
     },
     "metadata": {},
     "output_type": "display_data"
    }
   ],
   "source": [
    "import os\n",
    "import matplotlib.pyplot as plt\n",
    "from keras.preprocessing.image import load_img\n",
    "\n",
    "# กำหนดพาธของโฟลเดอร์\n",
    "folder_path = \"/Users/ampxxmly/Downloads/archive\"  # แก้ไขให้ตรงตามที่เก็บไฟล์\n",
    "expression = 'sad'\n",
    "picture_size = 48\n",
    "\n",
    "# ตรวจสอบว่าโฟลเดอร์ train และโฟลเดอร์ของ expression มีอยู่\n",
    "train_folder_path = os.path.join(folder_path, \"train\")\n",
    "expression_folder_path = os.path.join(train_folder_path, expression)\n",
    "\n",
    "if not os.path.exists(train_folder_path):\n",
    "    print(f\"โฟลเดอร์ train ไม่พบ: {train_folder_path}\")\n",
    "elif not os.path.exists(expression_folder_path):\n",
    "    print(f\"โฟลเดอร์ expression ไม่พบ: {expression_folder_path}\")\n",
    "else:\n",
    "    # แสดงภาพ\n",
    "    image_files = os.listdir(expression_folder_path)\n",
    "\n",
    "    plt.figure(figsize=(12, 12))\n",
    "    for i in range(min(9, len(image_files))):  # จำกัดจำนวนภาพที่แสดงไว้ไม่เกิน 9\n",
    "        plt.subplot(3, 3, i + 1)\n",
    "        img_path = os.path.join(expression_folder_path, image_files[i])  # สร้างเส้นทางไฟล์\n",
    "        img = load_img(img_path, target_size=(picture_size, picture_size))\n",
    "        plt.imshow(img)\n",
    "        plt.axis('off')  # ปิดการแสดงแกน\n",
    "    plt.show()"
   ]
  },
  {
   "cell_type": "code",
   "execution_count": 12,
   "metadata": {},
   "outputs": [
    {
     "name": "stdout",
     "output_type": "stream",
     "text": [
      "Train directory exists: True\n",
      "Test directory exists: True\n",
      "Found 28724 images belonging to 7 classes.\n",
      "Found 7193 images belonging to 7 classes.\n",
      "Number of classes in train set: 7\n",
      "Number of classes in test set: 7\n"
     ]
    }
   ],
   "source": [
    "import os\n",
    "from keras.preprocessing.image import ImageDataGenerator\n",
    "\n",
    "# กำหนดค่าพารามิเตอร์\n",
    "batch_size = 128\n",
    "picture_size = 48  # ขนาดของภาพ 48x48\n",
    "\n",
    "# ระบุเส้นทางโฟลเดอร์\n",
    "folder_path = \"/Users/ampxxmly/Downloads/archive\"\n",
    "train_directory = os.path.join(folder_path, \"train\")\n",
    "test_directory = os.path.join(folder_path, \"test\")\n",
    "\n",
    "# ตรวจสอบโฟลเดอร์\n",
    "if not os.path.exists(train_directory):\n",
    "    raise FileNotFoundError(f\"Train directory not found: {train_directory}\")\n",
    "if not os.path.exists(test_directory):\n",
    "    raise FileNotFoundError(f\"Test directory not found: {test_directory}\")\n",
    "\n",
    "print(\"Train directory exists:\", os.path.exists(train_directory))\n",
    "print(\"Test directory exists:\", os.path.exists(test_directory))\n",
    "\n",
    "# Image augmentation สำหรับ train set\n",
    "datagen_train = ImageDataGenerator(\n",
    "    rescale=1./255,\n",
    "    rotation_range=30,\n",
    "    width_shift_range=0.3,\n",
    "    height_shift_range=0.3,\n",
    "    shear_range=0.3,\n",
    "    zoom_range=0.3,\n",
    "    brightness_range=[0.8, 1.2],\n",
    "    horizontal_flip=True,\n",
    "    fill_mode='nearest'\n",
    ")\n",
    "\n",
    "# Image preprocessing สำหรับ validation/test set\n",
    "datagen_val = ImageDataGenerator(rescale=1./255)\n",
    "\n",
    "# โหลดข้อมูลจากโฟลเดอร์ train\n",
    "train_set = datagen_train.flow_from_directory(\n",
    "    train_directory,\n",
    "    target_size=(picture_size, picture_size),\n",
    "    color_mode=\"grayscale\",\n",
    "    batch_size=batch_size,\n",
    "    class_mode='categorical',\n",
    "    shuffle=True\n",
    ")\n",
    "\n",
    "# โหลดข้อมูลจากโฟลเดอร์ test\n",
    "test_set = datagen_val.flow_from_directory(\n",
    "    test_directory,\n",
    "    target_size=(picture_size, picture_size),\n",
    "    color_mode=\"grayscale\",\n",
    "    batch_size=batch_size,\n",
    "    class_mode='categorical',\n",
    "    shuffle=False\n",
    ")\n",
    "\n",
    "# แสดงข้อมูลเกี่ยวกับชุดข้อมูล\n",
    "print(f\"Number of classes in train set: {len(train_set.class_indices)}\")\n",
    "print(f\"Number of classes in test set: {len(test_set.class_indices)}\")"
   ]
  },
  {
   "cell_type": "code",
   "execution_count": 13,
   "metadata": {},
   "outputs": [
    {
     "name": "stderr",
     "output_type": "stream",
     "text": [
      "WARNING:absl:At this time, the v2.11+ optimizer `tf.keras.optimizers.Adam` runs slowly on M1/M2 Macs, please use the legacy Keras optimizer instead, located at `tf.keras.optimizers.legacy.Adam`.\n",
      "WARNING:absl:There is a known slowdown when using v2.11+ Keras optimizers on M1/M2 Macs. Falling back to the legacy Keras optimizer, i.e., `tf.keras.optimizers.legacy.Adam`.\n"
     ]
    },
    {
     "name": "stdout",
     "output_type": "stream",
     "text": [
      "Model: \"sequential_1\"\n",
      "_________________________________________________________________\n",
      " Layer (type)                Output Shape              Param #   \n",
      "=================================================================\n",
      " conv2d_4 (Conv2D)           (None, 48, 48, 64)        640       \n",
      "                                                                 \n",
      " batch_normalization_6 (Bat  (None, 48, 48, 64)        256       \n",
      " chNormalization)                                                \n",
      "                                                                 \n",
      " activation_6 (Activation)   (None, 48, 48, 64)        0         \n",
      "                                                                 \n",
      " max_pooling2d_4 (MaxPoolin  (None, 24, 24, 64)        0         \n",
      " g2D)                                                            \n",
      "                                                                 \n",
      " dropout_6 (Dropout)         (None, 24, 24, 64)        0         \n",
      "                                                                 \n",
      " conv2d_5 (Conv2D)           (None, 24, 24, 128)       73856     \n",
      "                                                                 \n",
      " batch_normalization_7 (Bat  (None, 24, 24, 128)       512       \n",
      " chNormalization)                                                \n",
      "                                                                 \n",
      " activation_7 (Activation)   (None, 24, 24, 128)       0         \n",
      "                                                                 \n",
      " max_pooling2d_5 (MaxPoolin  (None, 12, 12, 128)       0         \n",
      " g2D)                                                            \n",
      "                                                                 \n",
      " dropout_7 (Dropout)         (None, 12, 12, 128)       0         \n",
      "                                                                 \n",
      " conv2d_6 (Conv2D)           (None, 12, 12, 256)       295168    \n",
      "                                                                 \n",
      " batch_normalization_8 (Bat  (None, 12, 12, 256)       1024      \n",
      " chNormalization)                                                \n",
      "                                                                 \n",
      " activation_8 (Activation)   (None, 12, 12, 256)       0         \n",
      "                                                                 \n",
      " max_pooling2d_6 (MaxPoolin  (None, 6, 6, 256)         0         \n",
      " g2D)                                                            \n",
      "                                                                 \n",
      " dropout_8 (Dropout)         (None, 6, 6, 256)         0         \n",
      "                                                                 \n",
      " conv2d_7 (Conv2D)           (None, 6, 6, 512)         1180160   \n",
      "                                                                 \n",
      " batch_normalization_9 (Bat  (None, 6, 6, 512)         2048      \n",
      " chNormalization)                                                \n",
      "                                                                 \n",
      " activation_9 (Activation)   (None, 6, 6, 512)         0         \n",
      "                                                                 \n",
      " max_pooling2d_7 (MaxPoolin  (None, 3, 3, 512)         0         \n",
      " g2D)                                                            \n",
      "                                                                 \n",
      " dropout_9 (Dropout)         (None, 3, 3, 512)         0         \n",
      "                                                                 \n",
      " global_average_pooling2d_1  (None, 512)               0         \n",
      "  (GlobalAveragePooling2D)                                       \n",
      "                                                                 \n",
      " dense_3 (Dense)             (None, 256)               131328    \n",
      "                                                                 \n",
      " batch_normalization_10 (Ba  (None, 256)               1024      \n",
      " tchNormalization)                                               \n",
      "                                                                 \n",
      " activation_10 (Activation)  (None, 256)               0         \n",
      "                                                                 \n",
      " dropout_10 (Dropout)        (None, 256)               0         \n",
      "                                                                 \n",
      " dense_4 (Dense)             (None, 512)               131584    \n",
      "                                                                 \n",
      " batch_normalization_11 (Ba  (None, 512)               2048      \n",
      " tchNormalization)                                               \n",
      "                                                                 \n",
      " activation_11 (Activation)  (None, 512)               0         \n",
      "                                                                 \n",
      " dropout_11 (Dropout)        (None, 512)               0         \n",
      "                                                                 \n",
      " dense_5 (Dense)             (None, 7)                 3591      \n",
      "                                                                 \n",
      "=================================================================\n",
      "Total params: 1823239 (6.96 MB)\n",
      "Trainable params: 1819783 (6.94 MB)\n",
      "Non-trainable params: 3456 (13.50 KB)\n",
      "_________________________________________________________________\n"
     ]
    }
   ],
   "source": [
    "from keras.models import Sequential\n",
    "from keras.layers import Conv2D, MaxPooling2D, Dropout, Flatten, Dense, BatchNormalization, Activation, GlobalAveragePooling2D\n",
    "from keras.regularizers import l2\n",
    "from keras.optimizers import Adam\n",
    "\n",
    "no_of_classes = 7\n",
    "\n",
    "model = Sequential()\n",
    "\n",
    "# 1st CNN Layer\n",
    "model.add(Conv2D(64, (3, 3), padding='same', input_shape=(48, 48, 1)))\n",
    "model.add(BatchNormalization())\n",
    "model.add(Activation('relu'))\n",
    "model.add(MaxPooling2D(pool_size=(2, 2)))\n",
    "model.add(Dropout(0.2))  # ลด Dropout\n",
    "\n",
    "# 2nd CNN Layer\n",
    "model.add(Conv2D(128, (3, 3), padding='same'))\n",
    "model.add(BatchNormalization())\n",
    "model.add(Activation('relu'))\n",
    "model.add(MaxPooling2D(pool_size=(2, 2)))\n",
    "model.add(Dropout(0.2))\n",
    "\n",
    "# 3rd CNN Layer\n",
    "model.add(Conv2D(256, (3, 3), padding='same'))\n",
    "model.add(BatchNormalization())\n",
    "model.add(Activation('relu'))\n",
    "model.add(MaxPooling2D(pool_size=(2, 2)))\n",
    "model.add(Dropout(0.3))  # เพิ่ม Dropout สำหรับเลเยอร์ที่มีจำนวน filters สูง\n",
    "\n",
    "# 4th CNN Layer\n",
    "model.add(Conv2D(512, (3, 3), padding='same'))\n",
    "model.add(BatchNormalization())\n",
    "model.add(Activation('relu'))\n",
    "model.add(MaxPooling2D(pool_size=(2, 2)))\n",
    "model.add(Dropout(0.3))\n",
    "\n",
    "# Global Average Pooling (GAP)\n",
    "model.add(GlobalAveragePooling2D())\n",
    "\n",
    "# Fully Connected Layer 1\n",
    "model.add(Dense(256, kernel_regularizer=l2(0.01)))  # เพิ่ม Regularization\n",
    "model.add(BatchNormalization())\n",
    "model.add(Activation('relu'))\n",
    "model.add(Dropout(0.4))  # เพิ่ม Dropout\n",
    "\n",
    "# Fully Connected Layer 2\n",
    "model.add(Dense(512, kernel_regularizer=l2(0.01)))\n",
    "model.add(BatchNormalization())\n",
    "model.add(Activation('relu'))\n",
    "model.add(Dropout(0.4))\n",
    "\n",
    "# Output Layer\n",
    "model.add(Dense(no_of_classes, activation='softmax'))\n",
    "\n",
    "# Compile the model\n",
    "opt = Adam(learning_rate=0.0001)  # ลด Learning Rate\n",
    "model.compile(optimizer=opt, loss='categorical_crossentropy', metrics=['accuracy'])\n",
    "\n",
    "model.summary()"
   ]
  },
  {
   "cell_type": "code",
   "execution_count": 14,
   "metadata": {},
   "outputs": [
    {
     "name": "stderr",
     "output_type": "stream",
     "text": [
      "WARNING:absl:At this time, the v2.11+ optimizer `tf.keras.optimizers.Adam` runs slowly on M1/M2 Macs, please use the legacy Keras optimizer instead, located at `tf.keras.optimizers.legacy.Adam`.\n",
      "WARNING:absl:There is a known slowdown when using v2.11+ Keras optimizers on M1/M2 Macs. Falling back to the legacy Keras optimizer, i.e., `tf.keras.optimizers.legacy.Adam`.\n"
     ]
    }
   ],
   "source": [
    "from keras.optimizers import RMSprop,SGD,Adam\n",
    "from keras.optimizers.legacy import Adam as LegacyAdam\n",
    "from keras.callbacks import ModelCheckpoint, EarlyStopping, ReduceLROnPlateau\n",
    "\n",
    "checkpoint = ModelCheckpoint(\"./model.h5\", monitor='val_acc', verbose=1, save_best_only=True, mode='max')\n",
    "\n",
    "early_stopping = EarlyStopping(monitor='val_loss',\n",
    "                          min_delta=0,\n",
    "                          patience=15,\n",
    "                          verbose=1,\n",
    "                          restore_best_weights=True\n",
    "                          )\n",
    "\n",
    "reduce_learningrate = ReduceLROnPlateau(monitor='val_loss',\n",
    "                              factor=0.1,\n",
    "                              patience=5,\n",
    "                              verbose=1,\n",
    "                              min_delta=0.0001)\n",
    "\n",
    "callbacks_list = [early_stopping,checkpoint,reduce_learningrate]\n",
    "\n",
    "epochs = 48\n",
    "\n",
    "model.compile(loss='categorical_crossentropy',\n",
    "              optimizer = Adam(learning_rate=0.0001),\n",
    "              metrics=['accuracy'])"
   ]
  },
  {
   "cell_type": "code",
   "execution_count": 15,
   "metadata": {},
   "outputs": [
    {
     "name": "stdout",
     "output_type": "stream",
     "text": [
      "Epoch 1/48\n"
     ]
    },
    {
     "name": "stderr",
     "output_type": "stream",
     "text": [
      "2024-12-06 14:52:00.229051: I tensorflow/core/grappler/optimizers/custom_graph_optimizer_registry.cc:114] Plugin optimizer for device_type GPU is enabled.\n"
     ]
    },
    {
     "name": "stdout",
     "output_type": "stream",
     "text": [
      "224/224 [==============================] - ETA: 0s - loss: 8.3624 - accuracy: 0.2057"
     ]
    },
    {
     "name": "stderr",
     "output_type": "stream",
     "text": [
      "2024-12-06 14:52:53.673852: I tensorflow/core/grappler/optimizers/custom_graph_optimizer_registry.cc:114] Plugin optimizer for device_type GPU is enabled.\n"
     ]
    },
    {
     "name": "stdout",
     "output_type": "stream",
     "text": [
      "WARNING:tensorflow:Can save best model only with val_acc available, skipping.\n"
     ]
    },
    {
     "name": "stderr",
     "output_type": "stream",
     "text": [
      "WARNING:tensorflow:Can save best model only with val_acc available, skipping.\n"
     ]
    },
    {
     "name": "stdout",
     "output_type": "stream",
     "text": [
      "224/224 [==============================] - 58s 244ms/step - loss: 8.3624 - accuracy: 0.2057 - val_loss: 7.6331 - val_accuracy: 0.2479 - lr: 1.0000e-04\n",
      "Epoch 2/48\n",
      "224/224 [==============================] - ETA: 0s - loss: 7.2416 - accuracy: 0.2217WARNING:tensorflow:Can save best model only with val_acc available, skipping.\n"
     ]
    },
    {
     "name": "stderr",
     "output_type": "stream",
     "text": [
      "WARNING:tensorflow:Can save best model only with val_acc available, skipping.\n"
     ]
    },
    {
     "name": "stdout",
     "output_type": "stream",
     "text": [
      "224/224 [==============================] - 58s 260ms/step - loss: 7.2416 - accuracy: 0.2217 - val_loss: 6.7199 - val_accuracy: 0.2241 - lr: 1.0000e-04\n",
      "Epoch 3/48\n",
      "224/224 [==============================] - ETA: 0s - loss: 6.3536 - accuracy: 0.2277WARNING:tensorflow:Can save best model only with val_acc available, skipping.\n"
     ]
    },
    {
     "name": "stderr",
     "output_type": "stream",
     "text": [
      "WARNING:tensorflow:Can save best model only with val_acc available, skipping.\n"
     ]
    },
    {
     "name": "stdout",
     "output_type": "stream",
     "text": [
      "224/224 [==============================] - 55s 247ms/step - loss: 6.3536 - accuracy: 0.2277 - val_loss: 5.9398 - val_accuracy: 0.2341 - lr: 1.0000e-04\n",
      "Epoch 4/48\n",
      "224/224 [==============================] - ETA: 0s - loss: 5.6188 - accuracy: 0.2284WARNING:tensorflow:Can save best model only with val_acc available, skipping.\n"
     ]
    },
    {
     "name": "stderr",
     "output_type": "stream",
     "text": [
      "WARNING:tensorflow:Can save best model only with val_acc available, skipping.\n"
     ]
    },
    {
     "name": "stdout",
     "output_type": "stream",
     "text": [
      "224/224 [==============================] - 56s 252ms/step - loss: 5.6188 - accuracy: 0.2284 - val_loss: 5.2923 - val_accuracy: 0.2487 - lr: 1.0000e-04\n",
      "Epoch 5/48\n",
      "224/224 [==============================] - ETA: 0s - loss: 4.9971 - accuracy: 0.2344WARNING:tensorflow:Can save best model only with val_acc available, skipping.\n"
     ]
    },
    {
     "name": "stderr",
     "output_type": "stream",
     "text": [
      "WARNING:tensorflow:Can save best model only with val_acc available, skipping.\n"
     ]
    },
    {
     "name": "stdout",
     "output_type": "stream",
     "text": [
      "224/224 [==============================] - 57s 253ms/step - loss: 4.9971 - accuracy: 0.2344 - val_loss: 4.7328 - val_accuracy: 0.2627 - lr: 1.0000e-04\n",
      "Epoch 6/48\n",
      "224/224 [==============================] - ETA: 0s - loss: 4.4822 - accuracy: 0.2359WARNING:tensorflow:Can save best model only with val_acc available, skipping.\n"
     ]
    },
    {
     "name": "stderr",
     "output_type": "stream",
     "text": [
      "WARNING:tensorflow:Can save best model only with val_acc available, skipping.\n"
     ]
    },
    {
     "name": "stdout",
     "output_type": "stream",
     "text": [
      "224/224 [==============================] - 56s 249ms/step - loss: 4.4822 - accuracy: 0.2359 - val_loss: 4.3698 - val_accuracy: 0.2667 - lr: 1.0000e-04\n",
      "Epoch 7/48\n",
      "224/224 [==============================] - ETA: 0s - loss: 4.0468 - accuracy: 0.2381WARNING:tensorflow:Can save best model only with val_acc available, skipping.\n"
     ]
    },
    {
     "name": "stderr",
     "output_type": "stream",
     "text": [
      "WARNING:tensorflow:Can save best model only with val_acc available, skipping.\n"
     ]
    },
    {
     "name": "stdout",
     "output_type": "stream",
     "text": [
      "224/224 [==============================] - 56s 249ms/step - loss: 4.0468 - accuracy: 0.2381 - val_loss: 3.9172 - val_accuracy: 0.2578 - lr: 1.0000e-04\n",
      "Epoch 8/48\n",
      "224/224 [==============================] - ETA: 0s - loss: 3.6884 - accuracy: 0.2417WARNING:tensorflow:Can save best model only with val_acc available, skipping.\n"
     ]
    },
    {
     "name": "stderr",
     "output_type": "stream",
     "text": [
      "WARNING:tensorflow:Can save best model only with val_acc available, skipping.\n"
     ]
    },
    {
     "name": "stdout",
     "output_type": "stream",
     "text": [
      "224/224 [==============================] - 56s 252ms/step - loss: 3.6884 - accuracy: 0.2417 - val_loss: 3.6764 - val_accuracy: 0.2550 - lr: 1.0000e-04\n",
      "Epoch 9/48\n",
      "224/224 [==============================] - ETA: 0s - loss: 3.3902 - accuracy: 0.2449WARNING:tensorflow:Can save best model only with val_acc available, skipping.\n"
     ]
    },
    {
     "name": "stderr",
     "output_type": "stream",
     "text": [
      "WARNING:tensorflow:Can save best model only with val_acc available, skipping.\n"
     ]
    },
    {
     "name": "stdout",
     "output_type": "stream",
     "text": [
      "224/224 [==============================] - 57s 256ms/step - loss: 3.3902 - accuracy: 0.2449 - val_loss: 3.3234 - val_accuracy: 0.2628 - lr: 1.0000e-04\n",
      "Epoch 10/48\n",
      "224/224 [==============================] - ETA: 0s - loss: 3.1403 - accuracy: 0.2460WARNING:tensorflow:Can save best model only with val_acc available, skipping.\n"
     ]
    },
    {
     "name": "stderr",
     "output_type": "stream",
     "text": [
      "WARNING:tensorflow:Can save best model only with val_acc available, skipping.\n"
     ]
    },
    {
     "name": "stdout",
     "output_type": "stream",
     "text": [
      "224/224 [==============================] - 64s 288ms/step - loss: 3.1403 - accuracy: 0.2460 - val_loss: 3.1382 - val_accuracy: 0.2564 - lr: 1.0000e-04\n",
      "Epoch 11/48\n",
      "224/224 [==============================] - ETA: 0s - loss: 2.9309 - accuracy: 0.2531WARNING:tensorflow:Can save best model only with val_acc available, skipping.\n"
     ]
    },
    {
     "name": "stderr",
     "output_type": "stream",
     "text": [
      "WARNING:tensorflow:Can save best model only with val_acc available, skipping.\n"
     ]
    },
    {
     "name": "stdout",
     "output_type": "stream",
     "text": [
      "224/224 [==============================] - 58s 258ms/step - loss: 2.9309 - accuracy: 0.2531 - val_loss: 2.9321 - val_accuracy: 0.2646 - lr: 1.0000e-04\n",
      "Epoch 12/48\n",
      "224/224 [==============================] - ETA: 0s - loss: 2.7607 - accuracy: 0.2519WARNING:tensorflow:Can save best model only with val_acc available, skipping.\n"
     ]
    },
    {
     "name": "stderr",
     "output_type": "stream",
     "text": [
      "WARNING:tensorflow:Can save best model only with val_acc available, skipping.\n"
     ]
    },
    {
     "name": "stdout",
     "output_type": "stream",
     "text": [
      "224/224 [==============================] - 68s 302ms/step - loss: 2.7607 - accuracy: 0.2519 - val_loss: 2.7357 - val_accuracy: 0.2578 - lr: 1.0000e-04\n",
      "Epoch 13/48\n",
      "224/224 [==============================] - ETA: 0s - loss: 2.6176 - accuracy: 0.2566WARNING:tensorflow:Can save best model only with val_acc available, skipping.\n"
     ]
    },
    {
     "name": "stderr",
     "output_type": "stream",
     "text": [
      "WARNING:tensorflow:Can save best model only with val_acc available, skipping.\n"
     ]
    },
    {
     "name": "stdout",
     "output_type": "stream",
     "text": [
      "224/224 [==============================] - 70s 313ms/step - loss: 2.6176 - accuracy: 0.2566 - val_loss: 2.6574 - val_accuracy: 0.2584 - lr: 1.0000e-04\n",
      "Epoch 14/48\n",
      "224/224 [==============================] - ETA: 0s - loss: 2.4937 - accuracy: 0.2601WARNING:tensorflow:Can save best model only with val_acc available, skipping.\n"
     ]
    },
    {
     "name": "stderr",
     "output_type": "stream",
     "text": [
      "WARNING:tensorflow:Can save best model only with val_acc available, skipping.\n"
     ]
    },
    {
     "name": "stdout",
     "output_type": "stream",
     "text": [
      "224/224 [==============================] - 69s 307ms/step - loss: 2.4937 - accuracy: 0.2601 - val_loss: 2.4949 - val_accuracy: 0.2568 - lr: 1.0000e-04\n",
      "Epoch 15/48\n",
      "224/224 [==============================] - ETA: 0s - loss: 2.3996 - accuracy: 0.2598WARNING:tensorflow:Can save best model only with val_acc available, skipping.\n"
     ]
    },
    {
     "name": "stderr",
     "output_type": "stream",
     "text": [
      "WARNING:tensorflow:Can save best model only with val_acc available, skipping.\n"
     ]
    },
    {
     "name": "stdout",
     "output_type": "stream",
     "text": [
      "224/224 [==============================] - 70s 312ms/step - loss: 2.3996 - accuracy: 0.2598 - val_loss: 2.3816 - val_accuracy: 0.2814 - lr: 1.0000e-04\n",
      "Epoch 16/48\n",
      "224/224 [==============================] - ETA: 0s - loss: 2.3108 - accuracy: 0.2670WARNING:tensorflow:Can save best model only with val_acc available, skipping.\n"
     ]
    },
    {
     "name": "stderr",
     "output_type": "stream",
     "text": [
      "WARNING:tensorflow:Can save best model only with val_acc available, skipping.\n"
     ]
    },
    {
     "name": "stdout",
     "output_type": "stream",
     "text": [
      "224/224 [==============================] - 83s 371ms/step - loss: 2.3108 - accuracy: 0.2670 - val_loss: 2.3588 - val_accuracy: 0.2761 - lr: 1.0000e-04\n",
      "Epoch 17/48\n",
      "224/224 [==============================] - ETA: 0s - loss: 2.2402 - accuracy: 0.2688WARNING:tensorflow:Can save best model only with val_acc available, skipping.\n"
     ]
    },
    {
     "name": "stderr",
     "output_type": "stream",
     "text": [
      "WARNING:tensorflow:Can save best model only with val_acc available, skipping.\n"
     ]
    },
    {
     "name": "stdout",
     "output_type": "stream",
     "text": [
      "224/224 [==============================] - 68s 303ms/step - loss: 2.2402 - accuracy: 0.2688 - val_loss: 2.3135 - val_accuracy: 0.2740 - lr: 1.0000e-04\n",
      "Epoch 18/48\n",
      "224/224 [==============================] - ETA: 0s - loss: 2.1736 - accuracy: 0.2738WARNING:tensorflow:Can save best model only with val_acc available, skipping.\n"
     ]
    },
    {
     "name": "stderr",
     "output_type": "stream",
     "text": [
      "WARNING:tensorflow:Can save best model only with val_acc available, skipping.\n"
     ]
    },
    {
     "name": "stdout",
     "output_type": "stream",
     "text": [
      "224/224 [==============================] - 68s 304ms/step - loss: 2.1736 - accuracy: 0.2738 - val_loss: 2.1866 - val_accuracy: 0.2884 - lr: 1.0000e-04\n",
      "Epoch 19/48\n",
      "224/224 [==============================] - ETA: 0s - loss: 2.1195 - accuracy: 0.2770WARNING:tensorflow:Can save best model only with val_acc available, skipping.\n"
     ]
    },
    {
     "name": "stderr",
     "output_type": "stream",
     "text": [
      "WARNING:tensorflow:Can save best model only with val_acc available, skipping.\n"
     ]
    },
    {
     "name": "stdout",
     "output_type": "stream",
     "text": [
      "224/224 [==============================] - 64s 284ms/step - loss: 2.1195 - accuracy: 0.2770 - val_loss: 2.1035 - val_accuracy: 0.2987 - lr: 1.0000e-04\n",
      "Epoch 20/48\n",
      "224/224 [==============================] - ETA: 0s - loss: 2.0745 - accuracy: 0.2834WARNING:tensorflow:Can save best model only with val_acc available, skipping.\n"
     ]
    },
    {
     "name": "stderr",
     "output_type": "stream",
     "text": [
      "WARNING:tensorflow:Can save best model only with val_acc available, skipping.\n"
     ]
    },
    {
     "name": "stdout",
     "output_type": "stream",
     "text": [
      "224/224 [==============================] - 66s 293ms/step - loss: 2.0745 - accuracy: 0.2834 - val_loss: 2.1122 - val_accuracy: 0.2997 - lr: 1.0000e-04\n",
      "Epoch 21/48\n",
      "224/224 [==============================] - ETA: 0s - loss: 2.0260 - accuracy: 0.2875WARNING:tensorflow:Can save best model only with val_acc available, skipping.\n"
     ]
    },
    {
     "name": "stderr",
     "output_type": "stream",
     "text": [
      "WARNING:tensorflow:Can save best model only with val_acc available, skipping.\n"
     ]
    },
    {
     "name": "stdout",
     "output_type": "stream",
     "text": [
      "224/224 [==============================] - 72s 323ms/step - loss: 2.0260 - accuracy: 0.2875 - val_loss: 2.0818 - val_accuracy: 0.2871 - lr: 1.0000e-04\n",
      "Epoch 22/48\n",
      "224/224 [==============================] - ETA: 0s - loss: 1.9824 - accuracy: 0.3003WARNING:tensorflow:Can save best model only with val_acc available, skipping.\n"
     ]
    },
    {
     "name": "stderr",
     "output_type": "stream",
     "text": [
      "WARNING:tensorflow:Can save best model only with val_acc available, skipping.\n"
     ]
    },
    {
     "name": "stdout",
     "output_type": "stream",
     "text": [
      "224/224 [==============================] - 68s 303ms/step - loss: 1.9824 - accuracy: 0.3003 - val_loss: 2.0214 - val_accuracy: 0.3238 - lr: 1.0000e-04\n",
      "Epoch 23/48\n",
      "224/224 [==============================] - ETA: 0s - loss: 1.9486 - accuracy: 0.3044WARNING:tensorflow:Can save best model only with val_acc available, skipping.\n"
     ]
    },
    {
     "name": "stderr",
     "output_type": "stream",
     "text": [
      "WARNING:tensorflow:Can save best model only with val_acc available, skipping.\n"
     ]
    },
    {
     "name": "stdout",
     "output_type": "stream",
     "text": [
      "224/224 [==============================] - 69s 310ms/step - loss: 1.9486 - accuracy: 0.3044 - val_loss: 1.9389 - val_accuracy: 0.3207 - lr: 1.0000e-04\n",
      "Epoch 24/48\n",
      "224/224 [==============================] - ETA: 0s - loss: 1.9152 - accuracy: 0.3107WARNING:tensorflow:Can save best model only with val_acc available, skipping.\n"
     ]
    },
    {
     "name": "stderr",
     "output_type": "stream",
     "text": [
      "WARNING:tensorflow:Can save best model only with val_acc available, skipping.\n"
     ]
    },
    {
     "name": "stdout",
     "output_type": "stream",
     "text": [
      "224/224 [==============================] - 68s 306ms/step - loss: 1.9152 - accuracy: 0.3107 - val_loss: 1.8876 - val_accuracy: 0.3496 - lr: 1.0000e-04\n",
      "Epoch 25/48\n",
      "224/224 [==============================] - ETA: 0s - loss: 1.8821 - accuracy: 0.3217WARNING:tensorflow:Can save best model only with val_acc available, skipping.\n"
     ]
    },
    {
     "name": "stderr",
     "output_type": "stream",
     "text": [
      "WARNING:tensorflow:Can save best model only with val_acc available, skipping.\n"
     ]
    },
    {
     "name": "stdout",
     "output_type": "stream",
     "text": [
      "224/224 [==============================] - 67s 298ms/step - loss: 1.8821 - accuracy: 0.3217 - val_loss: 1.8966 - val_accuracy: 0.3421 - lr: 1.0000e-04\n",
      "Epoch 26/48\n",
      "224/224 [==============================] - ETA: 0s - loss: 1.8527 - accuracy: 0.3240WARNING:tensorflow:Can save best model only with val_acc available, skipping.\n"
     ]
    },
    {
     "name": "stderr",
     "output_type": "stream",
     "text": [
      "WARNING:tensorflow:Can save best model only with val_acc available, skipping.\n"
     ]
    },
    {
     "name": "stdout",
     "output_type": "stream",
     "text": [
      "224/224 [==============================] - 66s 295ms/step - loss: 1.8527 - accuracy: 0.3240 - val_loss: 1.7557 - val_accuracy: 0.3884 - lr: 1.0000e-04\n",
      "Epoch 27/48\n",
      "224/224 [==============================] - ETA: 0s - loss: 1.8199 - accuracy: 0.3369WARNING:tensorflow:Can save best model only with val_acc available, skipping.\n"
     ]
    },
    {
     "name": "stderr",
     "output_type": "stream",
     "text": [
      "WARNING:tensorflow:Can save best model only with val_acc available, skipping.\n"
     ]
    },
    {
     "name": "stdout",
     "output_type": "stream",
     "text": [
      "224/224 [==============================] - 70s 311ms/step - loss: 1.8199 - accuracy: 0.3369 - val_loss: 1.6448 - val_accuracy: 0.4224 - lr: 1.0000e-04\n",
      "Epoch 28/48\n",
      "224/224 [==============================] - ETA: 0s - loss: 1.7956 - accuracy: 0.3476WARNING:tensorflow:Can save best model only with val_acc available, skipping.\n"
     ]
    },
    {
     "name": "stderr",
     "output_type": "stream",
     "text": [
      "WARNING:tensorflow:Can save best model only with val_acc available, skipping.\n"
     ]
    },
    {
     "name": "stdout",
     "output_type": "stream",
     "text": [
      "224/224 [==============================] - 69s 309ms/step - loss: 1.7956 - accuracy: 0.3476 - val_loss: 2.0110 - val_accuracy: 0.3451 - lr: 1.0000e-04\n",
      "Epoch 29/48\n",
      "224/224 [==============================] - ETA: 0s - loss: 1.7662 - accuracy: 0.3569WARNING:tensorflow:Can save best model only with val_acc available, skipping.\n"
     ]
    },
    {
     "name": "stderr",
     "output_type": "stream",
     "text": [
      "WARNING:tensorflow:Can save best model only with val_acc available, skipping.\n"
     ]
    },
    {
     "name": "stdout",
     "output_type": "stream",
     "text": [
      "224/224 [==============================] - 71s 315ms/step - loss: 1.7662 - accuracy: 0.3569 - val_loss: 1.6743 - val_accuracy: 0.4191 - lr: 1.0000e-04\n",
      "Epoch 30/48\n",
      "224/224 [==============================] - ETA: 0s - loss: 1.7438 - accuracy: 0.3619WARNING:tensorflow:Can save best model only with val_acc available, skipping.\n"
     ]
    },
    {
     "name": "stderr",
     "output_type": "stream",
     "text": [
      "WARNING:tensorflow:Can save best model only with val_acc available, skipping.\n"
     ]
    },
    {
     "name": "stdout",
     "output_type": "stream",
     "text": [
      "224/224 [==============================] - 72s 319ms/step - loss: 1.7438 - accuracy: 0.3619 - val_loss: 1.6650 - val_accuracy: 0.3993 - lr: 1.0000e-04\n",
      "Epoch 31/48\n",
      "224/224 [==============================] - ETA: 0s - loss: 1.7268 - accuracy: 0.3676WARNING:tensorflow:Can save best model only with val_acc available, skipping.\n"
     ]
    },
    {
     "name": "stderr",
     "output_type": "stream",
     "text": [
      "WARNING:tensorflow:Can save best model only with val_acc available, skipping.\n"
     ]
    },
    {
     "name": "stdout",
     "output_type": "stream",
     "text": [
      "224/224 [==============================] - 69s 309ms/step - loss: 1.7268 - accuracy: 0.3676 - val_loss: 1.5623 - val_accuracy: 0.4442 - lr: 1.0000e-04\n",
      "Epoch 32/48\n",
      "224/224 [==============================] - ETA: 0s - loss: 1.7019 - accuracy: 0.3770WARNING:tensorflow:Can save best model only with val_acc available, skipping.\n"
     ]
    },
    {
     "name": "stderr",
     "output_type": "stream",
     "text": [
      "WARNING:tensorflow:Can save best model only with val_acc available, skipping.\n"
     ]
    },
    {
     "name": "stdout",
     "output_type": "stream",
     "text": [
      "224/224 [==============================] - 69s 306ms/step - loss: 1.7019 - accuracy: 0.3770 - val_loss: 1.5746 - val_accuracy: 0.4463 - lr: 1.0000e-04\n",
      "Epoch 33/48\n",
      "224/224 [==============================] - ETA: 0s - loss: 1.6824 - accuracy: 0.3804WARNING:tensorflow:Can save best model only with val_acc available, skipping.\n"
     ]
    },
    {
     "name": "stderr",
     "output_type": "stream",
     "text": [
      "WARNING:tensorflow:Can save best model only with val_acc available, skipping.\n"
     ]
    },
    {
     "name": "stdout",
     "output_type": "stream",
     "text": [
      "224/224 [==============================] - 72s 320ms/step - loss: 1.6824 - accuracy: 0.3804 - val_loss: 1.5906 - val_accuracy: 0.4238 - lr: 1.0000e-04\n",
      "Epoch 34/48\n",
      "224/224 [==============================] - ETA: 0s - loss: 1.6695 - accuracy: 0.3877WARNING:tensorflow:Can save best model only with val_acc available, skipping.\n"
     ]
    },
    {
     "name": "stderr",
     "output_type": "stream",
     "text": [
      "WARNING:tensorflow:Can save best model only with val_acc available, skipping.\n"
     ]
    },
    {
     "name": "stdout",
     "output_type": "stream",
     "text": [
      "224/224 [==============================] - 67s 299ms/step - loss: 1.6695 - accuracy: 0.3877 - val_loss: 1.6680 - val_accuracy: 0.4150 - lr: 1.0000e-04\n",
      "Epoch 35/48\n",
      "224/224 [==============================] - ETA: 0s - loss: 1.6480 - accuracy: 0.3896WARNING:tensorflow:Can save best model only with val_acc available, skipping.\n"
     ]
    },
    {
     "name": "stderr",
     "output_type": "stream",
     "text": [
      "WARNING:tensorflow:Can save best model only with val_acc available, skipping.\n"
     ]
    },
    {
     "name": "stdout",
     "output_type": "stream",
     "text": [
      "224/224 [==============================] - 64s 286ms/step - loss: 1.6480 - accuracy: 0.3896 - val_loss: 1.4824 - val_accuracy: 0.4675 - lr: 1.0000e-04\n",
      "Epoch 36/48\n",
      "224/224 [==============================] - ETA: 0s - loss: 1.6358 - accuracy: 0.3965WARNING:tensorflow:Can save best model only with val_acc available, skipping.\n"
     ]
    },
    {
     "name": "stderr",
     "output_type": "stream",
     "text": [
      "WARNING:tensorflow:Can save best model only with val_acc available, skipping.\n"
     ]
    },
    {
     "name": "stdout",
     "output_type": "stream",
     "text": [
      "224/224 [==============================] - 67s 299ms/step - loss: 1.6358 - accuracy: 0.3965 - val_loss: 1.5616 - val_accuracy: 0.4406 - lr: 1.0000e-04\n",
      "Epoch 37/48\n",
      "224/224 [==============================] - ETA: 0s - loss: 1.6224 - accuracy: 0.3991WARNING:tensorflow:Can save best model only with val_acc available, skipping.\n"
     ]
    },
    {
     "name": "stderr",
     "output_type": "stream",
     "text": [
      "WARNING:tensorflow:Can save best model only with val_acc available, skipping.\n"
     ]
    },
    {
     "name": "stdout",
     "output_type": "stream",
     "text": [
      "224/224 [==============================] - 69s 311ms/step - loss: 1.6224 - accuracy: 0.3991 - val_loss: 1.5551 - val_accuracy: 0.4336 - lr: 1.0000e-04\n",
      "Epoch 38/48\n",
      "224/224 [==============================] - ETA: 0s - loss: 1.6070 - accuracy: 0.4046WARNING:tensorflow:Can save best model only with val_acc available, skipping.\n"
     ]
    },
    {
     "name": "stderr",
     "output_type": "stream",
     "text": [
      "WARNING:tensorflow:Can save best model only with val_acc available, skipping.\n"
     ]
    },
    {
     "name": "stdout",
     "output_type": "stream",
     "text": [
      "224/224 [==============================] - 70s 315ms/step - loss: 1.6070 - accuracy: 0.4046 - val_loss: 1.6856 - val_accuracy: 0.4124 - lr: 1.0000e-04\n",
      "Epoch 39/48\n",
      "224/224 [==============================] - ETA: 0s - loss: 1.5928 - accuracy: 0.4098WARNING:tensorflow:Can save best model only with val_acc available, skipping.\n"
     ]
    },
    {
     "name": "stderr",
     "output_type": "stream",
     "text": [
      "WARNING:tensorflow:Can save best model only with val_acc available, skipping.\n"
     ]
    },
    {
     "name": "stdout",
     "output_type": "stream",
     "text": [
      "224/224 [==============================] - 69s 307ms/step - loss: 1.5928 - accuracy: 0.4098 - val_loss: 1.4085 - val_accuracy: 0.4923 - lr: 1.0000e-04\n",
      "Epoch 40/48\n",
      "224/224 [==============================] - ETA: 0s - loss: 1.5809 - accuracy: 0.4139WARNING:tensorflow:Can save best model only with val_acc available, skipping.\n"
     ]
    },
    {
     "name": "stderr",
     "output_type": "stream",
     "text": [
      "WARNING:tensorflow:Can save best model only with val_acc available, skipping.\n"
     ]
    },
    {
     "name": "stdout",
     "output_type": "stream",
     "text": [
      "224/224 [==============================] - 72s 321ms/step - loss: 1.5809 - accuracy: 0.4139 - val_loss: 1.4296 - val_accuracy: 0.4806 - lr: 1.0000e-04\n",
      "Epoch 41/48\n",
      "224/224 [==============================] - ETA: 0s - loss: 1.5691 - accuracy: 0.4165WARNING:tensorflow:Can save best model only with val_acc available, skipping.\n"
     ]
    },
    {
     "name": "stderr",
     "output_type": "stream",
     "text": [
      "WARNING:tensorflow:Can save best model only with val_acc available, skipping.\n"
     ]
    },
    {
     "name": "stdout",
     "output_type": "stream",
     "text": [
      "224/224 [==============================] - 69s 310ms/step - loss: 1.5691 - accuracy: 0.4165 - val_loss: 1.4587 - val_accuracy: 0.4678 - lr: 1.0000e-04\n",
      "Epoch 42/48\n",
      "224/224 [==============================] - ETA: 0s - loss: 1.5602 - accuracy: 0.4211WARNING:tensorflow:Can save best model only with val_acc available, skipping.\n"
     ]
    },
    {
     "name": "stderr",
     "output_type": "stream",
     "text": [
      "WARNING:tensorflow:Can save best model only with val_acc available, skipping.\n"
     ]
    },
    {
     "name": "stdout",
     "output_type": "stream",
     "text": [
      "224/224 [==============================] - 73s 328ms/step - loss: 1.5602 - accuracy: 0.4211 - val_loss: 1.4108 - val_accuracy: 0.4873 - lr: 1.0000e-04\n",
      "Epoch 43/48\n",
      "224/224 [==============================] - ETA: 0s - loss: 1.5500 - accuracy: 0.4209WARNING:tensorflow:Can save best model only with val_acc available, skipping.\n"
     ]
    },
    {
     "name": "stderr",
     "output_type": "stream",
     "text": [
      "WARNING:tensorflow:Can save best model only with val_acc available, skipping.\n"
     ]
    },
    {
     "name": "stdout",
     "output_type": "stream",
     "text": [
      "224/224 [==============================] - 69s 308ms/step - loss: 1.5500 - accuracy: 0.4209 - val_loss: 1.4733 - val_accuracy: 0.4727 - lr: 1.0000e-04\n",
      "Epoch 44/48\n",
      "224/224 [==============================] - ETA: 0s - loss: 1.5435 - accuracy: 0.4298WARNING:tensorflow:Can save best model only with val_acc available, skipping.\n"
     ]
    },
    {
     "name": "stderr",
     "output_type": "stream",
     "text": [
      "WARNING:tensorflow:Can save best model only with val_acc available, skipping.\n"
     ]
    },
    {
     "name": "stdout",
     "output_type": "stream",
     "text": [
      "\n",
      "Epoch 44: ReduceLROnPlateau reducing learning rate to 9.999999747378752e-06.\n",
      "224/224 [==============================] - 68s 302ms/step - loss: 1.5435 - accuracy: 0.4298 - val_loss: 1.5203 - val_accuracy: 0.4541 - lr: 1.0000e-04\n",
      "Epoch 45/48\n",
      "224/224 [==============================] - ETA: 0s - loss: 1.5209 - accuracy: 0.4361WARNING:tensorflow:Can save best model only with val_acc available, skipping.\n"
     ]
    },
    {
     "name": "stderr",
     "output_type": "stream",
     "text": [
      "WARNING:tensorflow:Can save best model only with val_acc available, skipping.\n"
     ]
    },
    {
     "name": "stdout",
     "output_type": "stream",
     "text": [
      "224/224 [==============================] - 69s 310ms/step - loss: 1.5209 - accuracy: 0.4361 - val_loss: 1.3390 - val_accuracy: 0.5106 - lr: 1.0000e-05\n",
      "Epoch 46/48\n",
      "224/224 [==============================] - ETA: 0s - loss: 1.5092 - accuracy: 0.4421WARNING:tensorflow:Can save best model only with val_acc available, skipping.\n"
     ]
    },
    {
     "name": "stderr",
     "output_type": "stream",
     "text": [
      "WARNING:tensorflow:Can save best model only with val_acc available, skipping.\n"
     ]
    },
    {
     "name": "stdout",
     "output_type": "stream",
     "text": [
      "224/224 [==============================] - 72s 321ms/step - loss: 1.5092 - accuracy: 0.4421 - val_loss: 1.3309 - val_accuracy: 0.5138 - lr: 1.0000e-05\n",
      "Epoch 47/48\n",
      "224/224 [==============================] - ETA: 0s - loss: 1.5032 - accuracy: 0.4435WARNING:tensorflow:Can save best model only with val_acc available, skipping.\n"
     ]
    },
    {
     "name": "stderr",
     "output_type": "stream",
     "text": [
      "WARNING:tensorflow:Can save best model only with val_acc available, skipping.\n"
     ]
    },
    {
     "name": "stdout",
     "output_type": "stream",
     "text": [
      "224/224 [==============================] - 69s 308ms/step - loss: 1.5032 - accuracy: 0.4435 - val_loss: 1.3167 - val_accuracy: 0.5202 - lr: 1.0000e-05\n",
      "Epoch 48/48\n",
      "224/224 [==============================] - ETA: 0s - loss: 1.4920 - accuracy: 0.4469WARNING:tensorflow:Can save best model only with val_acc available, skipping.\n"
     ]
    },
    {
     "name": "stderr",
     "output_type": "stream",
     "text": [
      "WARNING:tensorflow:Can save best model only with val_acc available, skipping.\n"
     ]
    },
    {
     "name": "stdout",
     "output_type": "stream",
     "text": [
      "224/224 [==============================] - 74s 331ms/step - loss: 1.4920 - accuracy: 0.4469 - val_loss: 1.3243 - val_accuracy: 0.5138 - lr: 1.0000e-05\n"
     ]
    }
   ],
   "source": [
    "history = model.fit(\n",
    "    train_set,\n",
    "    steps_per_epoch=train_set.n // train_set.batch_size,\n",
    "    epochs=epochs,\n",
    "    validation_data=test_set,\n",
    "    validation_steps=test_set.n // test_set.batch_size,\n",
    "    callbacks=callbacks_list\n",
    ")"
   ]
  },
  {
   "cell_type": "code",
   "execution_count": 16,
   "metadata": {},
   "outputs": [
    {
     "data": {
      "image/png": "[encoded data removed]",
      "text/plain": [
       "<Figure size 2000x1000 with 2 Axes>"
      ]
     },
     "metadata": {},
     "output_type": "display_data"
    }
   ],
   "source": [
    "plt.style.use('dark_background')\n",
    "\n",
    "plt.figure(figsize=(20,10))\n",
    "plt.subplot(1, 2, 1)\n",
    "plt.suptitle('Optimizer : Adam', fontsize=10)\n",
    "plt.ylabel('Loss', fontsize=16)\n",
    "plt.plot(history.history['loss'], label='Training Loss')\n",
    "plt.plot(history.history['val_loss'], label='Validation Loss')\n",
    "plt.legend(loc='upper right')\n",
    "\n",
    "plt.subplot(1, 2, 2)\n",
    "plt.ylabel('Accuracy', fontsize=16)\n",
    "plt.plot(history.history['accuracy'], label='Training Accuracy')\n",
    "plt.plot(history.history['val_accuracy'], label='Validation Accuracy')\n",
    "plt.legend(loc='lower right')\n",
    "plt.show()"
   ]
  },
  {
   "cell_type": "code",
   "execution_count": 17,
   "metadata": {},
   "outputs": [
    {
     "name": "stderr",
     "output_type": "stream",
     "text": [
      "/opt/anaconda3/envs/mlp/lib/python3.8/site-packages/keras/src/engine/training.py:3000: UserWarning: You are saving your model as an HDF5 file via `model.save()`. This file format is considered legacy. We recommend using instead the native Keras format, e.g. `model.save('my_model.keras')`.\n",
      "  saving_api.save_model(\n"
     ]
    }
   ],
   "source": [
    "import os\n",
    "os.makedirs('models/')\n",
    "model.save('models/model.h5')"
   ]
  }
 ],
 "metadata": {
  "kernelspec": {
   "display_name": "mlp",
   "language": "python",
   "name": "python3"
  },
  "language_info": {
   "codemirror_mode": {
    "name": "ipython",
    "version": 3
   },
   "file_extension": ".py",
   "mimetype": "text/x-python",
   "name": "python",
   "nbconvert_exporter": "python",
   "pygments_lexer": "ipython3",
   "version": "3.8.19"
  }
 },
 "nbformat": 4,
 "nbformat_minor": 2
}
